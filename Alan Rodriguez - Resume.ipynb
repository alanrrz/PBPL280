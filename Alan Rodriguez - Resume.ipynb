{
 "cells": [
  {
   "cell_type": "markdown",
   "id": "constitutional-camping",
   "metadata": {},
   "source": [
    "# M. Alan Rodriguez"
   ]
  },
  {
   "cell_type": "markdown",
   "id": "becoming-conference",
   "metadata": {},
   "source": [
    "marcosrrz@ucla.edu | 951-462-8657 "
   ]
  },
  {
   "cell_type": "markdown",
   "id": "starting-arlington",
   "metadata": {},
   "source": [
    "## Education"
   ]
  },
  {
   "cell_type": "markdown",
   "id": "aging-oakland",
   "metadata": {},
   "source": [
    "- B.A. University of California, Los Angeles (UCLA) | Major: International Development Studies \n",
    "- East China Normal University, Shanghai, China\n",
    "- A.A. Political Science, Southwestern Community College"
   ]
  },
  {
   "cell_type": "markdown",
   "id": "amended-joining",
   "metadata": {},
   "source": [
    "## Experience"
   ]
  },
  {
   "cell_type": "markdown",
   "id": "hungry-photographer",
   "metadata": {},
   "source": [
    "**Public Affairs Intern** | Lee Andrews Group, Los Angeles, CA "
   ]
  },
  {
   "cell_type": "markdown",
   "id": "pending-beast",
   "metadata": {},
   "source": [
    "- Assisted in the design and preparation of RFPs for submission to Metro and MRCA\n",
    "- Collaborated in the development of workshops in the form of technical support and translation.\n",
    "- Researched community stakeholders and transportations projects."
   ]
  },
  {
   "cell_type": "markdown",
   "id": "focused-honey",
   "metadata": {},
   "source": [
    "**Teaching Assistant** University of California, Riverside, CA"
   ]
  },
  {
   "cell_type": "markdown",
   "id": "smart-earth",
   "metadata": {},
   "source": [
    "- Provided the professor with feedback related to student performance and coursework.\n",
    "- Held office hours with students to review materials, answer general questions and provided some assistance on assignments"
   ]
  },
  {
   "cell_type": "markdown",
   "id": "engaged-computer",
   "metadata": {},
   "source": [
    "**Legal Assistant** Law Office of Amira Al-Alami, Los Angeles, CA"
   ]
  },
  {
   "cell_type": "markdown",
   "id": "personalized-american",
   "metadata": {},
   "source": [
    "- Managed a caseload of over 120 clients to prepare immigration applications and petitions on behalf of investors and Immigrants.\n",
    "- Implemented new client intake protocol resulting in increased efficiency."
   ]
  },
  {
   "cell_type": "markdown",
   "id": "other-mountain",
   "metadata": {},
   "source": [
    "## Special Skills"
   ]
  },
  {
   "cell_type": "markdown",
   "id": "bored-gates",
   "metadata": {},
   "source": [
    "- Native Spanish Speaker\n",
    "- Photoshop and Premiere (Photo and Video Editing)\n",
    "- ArcGIS and Story Maps"
   ]
  },
  {
   "cell_type": "code",
   "execution_count": null,
   "id": "handmade-logan",
   "metadata": {},
   "outputs": [],
   "source": []
  }
 ],
 "metadata": {
  "kernelspec": {
   "display_name": "Python 3",
   "language": "python",
   "name": "python3"
  },
  "language_info": {
   "codemirror_mode": {
    "name": "ipython",
    "version": 3
   },
   "file_extension": ".py",
   "mimetype": "text/x-python",
   "name": "python",
   "nbconvert_exporter": "python",
   "pygments_lexer": "ipython3",
   "version": "3.7.3"
  }
 },
 "nbformat": 4,
 "nbformat_minor": 5
}
